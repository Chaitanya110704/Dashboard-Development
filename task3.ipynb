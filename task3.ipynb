import dash
from dash import dcc, html, Input, Output
import pandas as pd
import numpy as np
import plotly.express as px

# Simulate dataset
np.random.seed(42)
n_rows = 100_000
products = ['Laptop', 'Phone', 'Tablet', 'Monitor', 'Keyboard']
customers = ['Alice', 'Bob', 'Charlie', 'Diana', 'Eve']

df = pd.DataFrame({
    'order_id': np.arange(n_rows),
    'product': np.random.choice(products, n_rows),
    'customer': np.random.choice(customers, n_rows),
    'quantity': np.random.randint(1, 5, n_rows),
    'price_per_unit': np.random.uniform(50, 1500, n_rows)
})
df['total_price'] = df['quantity'] * df['price_per_unit']

# Start Dash app
app = dash.Dash(__name__)
app.title = "Sales Dashboard"

# Layout
app.layout = html.Div([
    html.H1("Interactive Sales Dashboard"),

    dcc.Dropdown(
        id='customer-dropdown',
        options=[{'label': cust, 'value': cust} for cust in df['customer'].unique()],
        value='Alice',
        clearable=False
    ),

    html.Div([
        dcc.Graph(id='sales-by-product'),
        dcc.Graph(id='order-value-by-customer'),
    ], style={'display': 'flex', 'gap': '2rem'}),

    dcc.Graph(id='product-frequency')
])

# Callbacks
@app.callback(
    Output('sales-by-product', 'figure'),
    Output('order-value-by-customer', 'figure'),
    Output('product-frequency', 'figure'),
    Input('customer-dropdown', 'value')
)
def update_dashboard(selected_customer):
    # Total Sales by Product
    sales = df.groupby('product')['total_price'].sum().reset_index()
    fig1 = px.bar(sales, x='product', y='total_price', title='Total Sales by Product')

    # Average Order Value for Selected Customer
    customer_orders = df[df['customer'] == selected_customer]
    avg_order = customer_orders.groupby('product')['total_price'].mean().reset_index()
    fig2 = px.bar(avg_order, x='product', y='total_price', title=f'Avg Order Value - {selected_customer}')

    # Product Purchase Frequency
    freq = df['product'].value_counts().reset_index()
    freq.columns = ['product', 'count']
    fig3 = px.pie(freq, values='count', names='product', title='Product Purchase Frequency')

    return fig1, fig2, fig3

# Run app
if __name__ == '__main__':
    app.run(debug=True)
